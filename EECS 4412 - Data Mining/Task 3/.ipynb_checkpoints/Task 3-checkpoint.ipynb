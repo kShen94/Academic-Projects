{
 "cells": [
  {
   "cell_type": "code",
   "execution_count": 1,
   "id": "a1155b98",
   "metadata": {},
   "outputs": [],
   "source": [
    "import pandas as pd"
   ]
  },
  {
   "cell_type": "code",
   "execution_count": 2,
   "id": "153b634c",
   "metadata": {},
   "outputs": [],
   "source": [
    "#load csv file into dataframe\n",
    "df = pd.read_csv('New Combined Data - New Data.csv', header=0)"
   ]
  },
  {
   "cell_type": "code",
   "execution_count": 3,
   "id": "d6f788df",
   "metadata": {},
   "outputs": [],
   "source": [
    "#select specific coloumn(s) for analysis\n",
    "team_a_fouls = df[\"Home Team Fouls\"]\n",
    "winning_Team_Possession_Difference = df[\"Winning Team Possession Difference %\"]"
   ]
  },
  {
   "cell_type": "code",
   "execution_count": 4,
   "id": "ffa7ef1e",
   "metadata": {},
   "outputs": [],
   "source": [
    "#Team A fouls selected as Ratio dimension\n",
    "#Team A is home team\n",
    "team_a_fouls_zscore = team_a_fouls.copy()\n",
    "team_a_fouls_minmax = team_a_fouls.copy()\n",
    "\n",
    "#Winning team possession difference selected as interval dimension\n",
    "winning_Team_Possession_Difference_zscore = winning_Team_Possession_Difference.copy()\n",
    "winning_Team_Possession_Difference_minmax = winning_Team_Possession_Difference.copy()"
   ]
  },
  {
   "cell_type": "code",
   "execution_count": 5,
   "id": "789e4ee5",
   "metadata": {},
   "outputs": [],
   "source": [
    "#Calculate Z-Score\n",
    "team_a_fouls_zscore = (team_a_fouls_zscore - team_a_fouls_zscore.mean()) / team_a_fouls_zscore.std()\n",
    "winning_Team_Possession_Difference_zscore = (winning_Team_Possession_Difference_zscore - winning_Team_Possession_Difference_zscore.mean()) / winning_Team_Possession_Difference_zscore.std()\n",
    "\n",
    "#Calculate Min-Max\n",
    "team_a_fouls_minmax = (team_a_fouls_minmax - team_a_fouls_minmax.min()) / (team_a_fouls_minmax.max() - team_a_fouls_minmax.min())\n",
    "winning_Team_Possession_Difference_minmax = (winning_Team_Possession_Difference_minmax - winning_Team_Possession_Difference_minmax.min()) / (winning_Team_Possession_Difference_minmax.max() - winning_Team_Possession_Difference_minmax.min())"
   ]
  },
  {
   "cell_type": "code",
   "execution_count": 6,
   "id": "d420837f",
   "metadata": {},
   "outputs": [],
   "source": [
    "#format results\n",
    "raw_results = {\"Home Team Fouls\": team_a_fouls, \"Home Team Fouls Z-Score\" : team_a_fouls_zscore, \"Home Team Fouls Min-Max\": team_a_fouls_minmax, \"Winning Team Possession Difference %\": winning_Team_Possession_Difference, \"Winning Team Possession Difference Z-Score\": winning_Team_Possession_Difference_zscore, \"Winning Team Possession Difference Min-Max\": winning_Team_Possession_Difference_minmax}\n",
    "\n",
    "#Insert results into dataframe\n",
    "results_df = pd.DataFrame(raw_results, columns = [\"Home Team Fouls\", \"Home Team Fouls Z-Score\", \"Home Team Fouls Min-Max\",\"Winning Team Possession Difference %\", \"Winning Team Possession Difference Z-Score\", \"Winning Team Possession Difference Min-Max\"])\n",
    "\n",
    "#Export results to csv\n",
    "results_df.to_csv('216168486-216442427-212298535—T3.csv', encoding='utf-8', index=False)"
   ]
  },
  {
   "cell_type": "code",
   "execution_count": null,
   "id": "00ba9684",
   "metadata": {},
   "outputs": [],
   "source": []
  }
 ],
 "metadata": {
  "kernelspec": {
   "display_name": "Python 3 (ipykernel)",
   "language": "python",
   "name": "python3"
  },
  "language_info": {
   "codemirror_mode": {
    "name": "ipython",
    "version": 3
   },
   "file_extension": ".py",
   "mimetype": "text/x-python",
   "name": "python",
   "nbconvert_exporter": "python",
   "pygments_lexer": "ipython3",
   "version": "3.9.7"
  }
 },
 "nbformat": 4,
 "nbformat_minor": 5
}
